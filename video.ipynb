{
 "cells": [
  {
   "cell_type": "code",
   "execution_count": 10,
   "metadata": {},
   "outputs": [],
   "source": [
    "import cv2"
   ]
  },
  {
   "cell_type": "code",
   "execution_count": 13,
   "metadata": {},
   "outputs": [],
   "source": [
    "cap = cv2.VideoCapture(0)\n",
    "def draw_rectangle(event,x,y,flags,param):\n",
    "    global pt1,pt2,topLeft_clicked,botRight_clicked\n",
    "    if event == cv2.EVENT_LBUTTONDOWN:\n",
    "        if topLeft_clicked == True and botRight_clicked == True:\n",
    "            pt1 = (0,0)\n",
    "            pt2 = (0,0)\n",
    "            topLeft_clicked = False\n",
    "            botRight_clicked = False\n",
    "        if topLeft_clicked == False:\n",
    "            pt1=(x,y)\n",
    "            topLeft_clicked == True\n",
    "    \n",
    "        elif botRight_clicked == False:\n",
    "            pt2=(x,y)\n",
    "            botRight_clicked = True\n",
    "pt1 = (0,0)\n",
    "pt2 = (0,0)\n",
    "topLeft_clicked = False\n",
    "botRight_clicked = False\n",
    "cap = cv2.VideoCapture(0)\n",
    "cv2.namedWindow('Test')\n",
    "cv2.setMouseCallback('Test',draw_rectangle)\n",
    "while True:\n",
    "    ret,frame = cap.read()\n",
    "    if topLeft_clicked:\n",
    "        cv2.circle(frame,center=pt1,radius=5,color=(0,255,0),thickness=-1)\n",
    "    if topLeft_clicked and botRight_clicked:\n",
    "        cv2.rectangle(frame,pt1,pt2,(0,255,0),3)\n",
    "    cv2.imshow('Test',frame)\n",
    "    if cv2.waitKey(1) & 0xFF == ord('q'):\n",
    "        break       \n",
    "cap.release()\n",
    "cv2.destroyAllWindows()"
   ]
  },
  {
   "cell_type": "code",
   "execution_count": null,
   "metadata": {},
   "outputs": [],
   "source": []
  },
  {
   "cell_type": "code",
   "execution_count": null,
   "metadata": {},
   "outputs": [],
   "source": []
  },
  {
   "cell_type": "code",
   "execution_count": null,
   "metadata": {},
   "outputs": [],
   "source": []
  },
  {
   "cell_type": "code",
   "execution_count": null,
   "metadata": {},
   "outputs": [],
   "source": []
  }
 ],
 "metadata": {
  "kernelspec": {
   "display_name": "Python 3",
   "language": "python",
   "name": "python3"
  },
  "language_info": {
   "codemirror_mode": {
    "name": "ipython",
    "version": 3
   },
   "file_extension": ".py",
   "mimetype": "text/x-python",
   "name": "python",
   "nbconvert_exporter": "python",
   "pygments_lexer": "ipython3",
   "version": "3.7.6"
  }
 },
 "nbformat": 4,
 "nbformat_minor": 4
}
