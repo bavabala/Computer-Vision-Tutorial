{
 "cells": [
  {
   "cell_type": "code",
   "execution_count": 1,
   "metadata": {},
   "outputs": [],
   "source": [
    "import cv2\n",
    "import numpy as np"
   ]
  },
  {
   "cell_type": "code",
   "execution_count": null,
   "metadata": {},
   "outputs": [],
   "source": [
    "drawing = False\n",
    "iX = -1\n",
    "iy = -1\n",
    "def draw_rectangle(event,x,y,flags,params):\n",
    "    global iX,iy,drawing\n",
    "    if event == cv2.EVENT_LBUTTONDOWN:\n",
    "        drawing =True\n",
    "        iX,iy = x,y\n",
    "    elif event == cv2.EVENT_MOUSEMOVE:\n",
    "        if drawing == True:\n",
    "             cv2.rectangle(img,(iX,iy),(x,y),(0,255,0),-1)\n",
    "    elif event == cv2.EVENT_LBUTTONUP:\n",
    "            drawing = False\n",
    "            cv2.rectangle(img,(iX,iy),(x,y),(0,255,0),-1)\n",
    "img = np.zeros((512,512,3))\n",
    "cv2.namedWindow(winname='my_drawing')\n",
    "cv2.setMouseCallback('my_drawing',draw_rectangle)\n",
    "while True:\n",
    "    cv2.imshow('my_drawing',img)\n",
    "    if cv2.waitKey(22) & 0xFF == 27:\n",
    "        break\n",
    "cv2.destroyAllWindows()"
   ]
  }
 ],
 "metadata": {
  "kernelspec": {
   "display_name": "Python 3",
   "language": "python",
   "name": "python3"
  },
  "language_info": {
   "codemirror_mode": {
    "name": "ipython",
    "version": 3
   },
   "file_extension": ".py",
   "mimetype": "text/x-python",
   "name": "python",
   "nbconvert_exporter": "python",
   "pygments_lexer": "ipython3",
   "version": "3.7.6"
  }
 },
 "nbformat": 4,
 "nbformat_minor": 4
}
